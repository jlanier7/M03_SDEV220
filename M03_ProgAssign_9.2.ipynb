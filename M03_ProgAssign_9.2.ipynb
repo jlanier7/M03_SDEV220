{
 "cells": [
  {
   "cell_type": "markdown",
   "metadata": {},
   "source": [
    "--------------------------------------------------------------------------------------------------------------------------------------------------\n",
    "# Program Name: Book Thing To Do 9.2  \n",
    "  \n",
    "# Author: Josh Lanier   \n",
    "  \n",
    "## SDEV 220  \n",
    "  \n",
    "## 11/12/22  \n",
    "  \n",
    "Program Purpose: To create a generator function that yields the odd numbers in range(10), then utilize it to find and print the third value in the generator sequence.\n",
    "  \n",
    "Variables:   \n",
    "    \n",
    "- odds:     (generator) variable holding the *get_odds()* generator object\n",
    "\n",
    "- thirdOdd: (list)      list that holds the values iterated from the *odds* generator object in the 'for' loop\n",
    "      \n",
    "--------------------------------------------------------------------------------------------------------------------------------------------------"
   ]
  },
  {
   "cell_type": "code",
   "execution_count": 48,
   "metadata": {},
   "outputs": [],
   "source": [
    "\n",
    "def get_odds():\n",
    "    '''Creates a generator object, no arguments taken, yields the odd numbers in range(10).'''\n",
    "    for num in range(10):\n",
    "        if num % 2 != 0:\n",
    "            yield num\n"
   ]
  },
  {
   "cell_type": "code",
   "execution_count": 49,
   "metadata": {},
   "outputs": [
    {
     "name": "stdout",
     "output_type": "stream",
     "text": [
      "<generator object get_odds at 0x000001A4B4A3E2D0>\n",
      "(1, 3, 5, 7, 9)\n"
     ]
    }
   ],
   "source": [
    "odds = get_odds()   # creating a generator object\n",
    "\n",
    "print(odds)         # printing to see the output of get_odds(), for kicks\n",
    "print(tuple(odds))  # testing if get_odds() produces desired result"
   ]
  },
  {
   "cell_type": "markdown",
   "metadata": {},
   "source": [
    "get_odds() works as expected!"
   ]
  },
  {
   "cell_type": "code",
   "execution_count": 50,
   "metadata": {},
   "outputs": [
    {
     "name": "stdout",
     "output_type": "stream",
     "text": [
      "The third value is: 5\n",
      "The list iterated in the for loop is: [1, 3, 5]\n"
     ]
    }
   ],
   "source": [
    "odds = get_odds()                 # refreshing the generator object, since it was previously consumed\n",
    "\n",
    "thirdOdd = []\n",
    "for odd in odds:                  # iterating through the generator object until it finds the third value in the sequence\n",
    "    thirdOdd.append(odd)          # adds the iterated value to the end of the list\n",
    "    if len(thirdOdd) == 3:        # if the list has reached three values, it will stop, print the third value, and end the for loop\n",
    "        print('The third value is:', thirdOdd[-1])\n",
    "        break\n",
    "\n",
    "print('The list iterated in the for loop is:', thirdOdd)   # printing a testing line to see if loop performed as expected beyond just \\\n",
    "                                                           # the third value\n",
    "\n",
    "# expecting value: 5"
   ]
  },
  {
   "cell_type": "markdown",
   "metadata": {},
   "source": [
    "Couldn't figure out why my last block of code didn't work, then went back to the textbook and read the note that said the generator can only be run once. Refreshed it at the beginning of the last block of code and it worked!\n",
    "\n",
    "It put out the third value in the sequence!"
   ]
  }
 ],
 "metadata": {
  "kernelspec": {
   "display_name": "Python 3.10.0 64-bit",
   "language": "python",
   "name": "python3"
  },
  "language_info": {
   "codemirror_mode": {
    "name": "ipython",
    "version": 3
   },
   "file_extension": ".py",
   "mimetype": "text/x-python",
   "name": "python",
   "nbconvert_exporter": "python",
   "pygments_lexer": "ipython3",
   "version": "3.10.0"
  },
  "orig_nbformat": 4,
  "vscode": {
   "interpreter": {
    "hash": "467e873f0dda9fd3960b72e40a604d87a4a1ce3947ca6ed6991fc2cd958f247d"
   }
  }
 },
 "nbformat": 4,
 "nbformat_minor": 2
}
