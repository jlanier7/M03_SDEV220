{
 "cells": [
  {
   "cell_type": "markdown",
   "metadata": {},
   "source": [
    "--------------------------------------------------------------------------------------------------------------------------------------------------\n",
    "# Program Name: Book Things To Do 7.4 - 7.7  \n",
    "  \n",
    "# Author: Josh Lanier   \n",
    "  \n",
    "## SDEV 220  \n",
    "  \n",
    "## 11/12/22  \n",
    "  \n",
    "Program Purpose: To make a list and interact with it using different string and list methods.\n",
    "  \n",
    "Variables:   \n",
    "    \n",
    "- things: (list) list of elements to interact with and manipulate.  \n",
    "      \n",
    "--------------------------------------------------------------------------------------------------------------------------------------------------"
   ]
  },
  {
   "cell_type": "code",
   "execution_count": 29,
   "metadata": {},
   "outputs": [
    {
     "name": "stdout",
     "output_type": "stream",
     "text": [
      "['mozzerella', 'cinderella', 'salmonella']\n"
     ]
    }
   ],
   "source": [
    "# Book To Do 7.4\n",
    "\n",
    "things = ['mozzerella', 'cinderella', 'salmonella']\n",
    "\n",
    "print(things)"
   ]
  },
  {
   "cell_type": "code",
   "execution_count": 30,
   "metadata": {},
   "outputs": [
    {
     "name": "stdout",
     "output_type": "stream",
     "text": [
      "Cinderella\n",
      "['mozzerella', 'cinderella', 'salmonella']\n"
     ]
    }
   ],
   "source": [
    "# Book To Do 7.5\n",
    "\n",
    "print(things[1].capitalize())   # capitalize a copy of 'cinderella' element\n",
    "\n",
    "print(things)\n",
    "\n"
   ]
  },
  {
   "cell_type": "markdown",
   "metadata": {},
   "source": [
    "No, it did not change the element in the list. It is still uncapitalized."
   ]
  },
  {
   "cell_type": "code",
   "execution_count": 31,
   "metadata": {},
   "outputs": [
    {
     "name": "stdout",
     "output_type": "stream",
     "text": [
      "['MOZZERELLA', 'cinderella', 'salmonella']\n"
     ]
    }
   ],
   "source": [
    "# Book To Do 7.6\n",
    "\n",
    "things[0] = things[0].upper()   # modify the actual element 'mozzerella' to be all uppercase\n",
    "\n",
    "print(things)"
   ]
  },
  {
   "cell_type": "code",
   "execution_count": 32,
   "metadata": {},
   "outputs": [
    {
     "name": "stdout",
     "output_type": "stream",
     "text": [
      "['MOZZERELLA', 'cinderella']\n"
     ]
    }
   ],
   "source": [
    "# Book To Do 7.7\n",
    "\n",
    "del things[2]   # delete 'salmonella'\n",
    "\n",
    "print(things)"
   ]
  },
  {
   "cell_type": "markdown",
   "metadata": {},
   "source": [
    "Everything worked as expected!"
   ]
  }
 ],
 "metadata": {
  "kernelspec": {
   "display_name": "Python 3.10.0 64-bit",
   "language": "python",
   "name": "python3"
  },
  "language_info": {
   "codemirror_mode": {
    "name": "ipython",
    "version": 3
   },
   "file_extension": ".py",
   "mimetype": "text/x-python",
   "name": "python",
   "nbconvert_exporter": "python",
   "pygments_lexer": "ipython3",
   "version": "3.10.0"
  },
  "orig_nbformat": 4,
  "vscode": {
   "interpreter": {
    "hash": "467e873f0dda9fd3960b72e40a604d87a4a1ce3947ca6ed6991fc2cd958f247d"
   }
  }
 },
 "nbformat": 4,
 "nbformat_minor": 2
}
